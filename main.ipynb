{
  "nbformat": 4,
  "nbformat_minor": 0,
  "metadata": {
    "colab": {
      "provenance": [],
      "private_outputs": true,
      "mount_file_id": "1nNQm8nSUqHFlaZEt3JC4__RXjvh7uNh7",
      "authorship_tag": "ABX9TyNj3fQ6c+UhPk5qQgA2uomW",
      "include_colab_link": true
    },
    "kernelspec": {
      "name": "python3",
      "display_name": "Python 3"
    },
    "language_info": {
      "name": "python"
    },
    "accelerator": "GPU",
    "gpuClass": "standard"
  },
  "cells": [
    {
      "cell_type": "markdown",
      "metadata": {
        "id": "view-in-github",
        "colab_type": "text"
      },
      "source": [
        "<a href=\"https://colab.research.google.com/github/TioHalu/Forest_Fire_Prediction_Colab/blob/main/Main.ipynb\" target=\"_parent\"><img src=\"https://colab.research.google.com/assets/colab-badge.svg\" alt=\"Open In Colab\"/></a>"
      ]
    },
    {
      "cell_type": "code",
      "execution_count": null,
      "metadata": {
        "id": "K-a8dXyA91xV"
      },
      "outputs": [],
      "source": [
        "pip install pandas matplotlib numpy\n"
      ]
    },
    {
      "cell_type": "code",
      "source": [
        "from google.colab import drive\n",
        "drive.mount('/content/drive')"
      ],
      "metadata": {
        "id": "dtvlkePNIdrP"
      },
      "execution_count": null,
      "outputs": []
    },
    {
      "cell_type": "code",
      "source": [
        "import numpy as np\n",
        "import pandas as pd\n",
        "import matplotlib.pyplot as plt"
      ],
      "metadata": {
        "id": "GWcST-fXIsx3"
      },
      "execution_count": null,
      "outputs": []
    },
    {
      "cell_type": "code",
      "source": [
        "df=pd.read_csv('/content/drive/MyDrive/tugas/dataset/weatherHistory.csv')\n",
        "df.head()"
      ],
      "metadata": {
        "id": "dJ_7C1JeJGDP"
      },
      "execution_count": null,
      "outputs": []
    },
    {
      "cell_type": "code",
      "source": [
        "df['Humidity'].plot()"
      ],
      "metadata": {
        "id": "yRWW2ufrJx2K"
      },
      "execution_count": null,
      "outputs": []
    },
    {
      "cell_type": "code",
      "source": [
        "pip install statsmodels"
      ],
      "metadata": {
        "id": "W1McwQRfo1ua"
      },
      "execution_count": null,
      "outputs": []
    },
    {
      "cell_type": "code",
      "source": [
        "#check stasioner data or not\n",
        "from statsmodels.tsa.stattools import adfuller"
      ],
      "metadata": {
        "id": "uQuVdYPlqkh8"
      },
      "execution_count": null,
      "outputs": []
    },
    {
      "cell_type": "code",
      "source": [
        "test_result=adfuller(df['Humidity'])"
      ],
      "metadata": {
        "id": "W81_NK_fqwRR"
      },
      "execution_count": null,
      "outputs": []
    },
    {
      "cell_type": "code",
      "source": [
        "def adfuller_test(Humidity):\n",
        "    result=adfuller(Humidity)\n",
        "    labels = ['ADF Test Statistic','p-value','#Lags Used','Number of Observations']\n",
        "    for value,label in zip(result,labels):\n",
        "        print(label+' : '+str(value) )\n",
        "\n",
        "    if result[1] <= 0.05:\n",
        "      print(\"strong evidence against the null hypothesis(Ho), reject the null hypothesis. Data is stationary\")\n",
        "    else:\n",
        "      print(\"weak evidence against null hypothesis,indicating it is non-stationary \")\n",
        "\n",
        "adfuller_test(df['Humidity'])"
      ],
      "metadata": {
        "id": "GxSg-uu-qwpH"
      },
      "execution_count": null,
      "outputs": []
    },
    {
      "cell_type": "code",
      "source": [
        "#Let’s try to see the first difference and seasonal difference\n",
        "df['Temperature (C)'] = df['Humidity'] - df['Humidity'].shift(1)\n",
        "df['Temperature (C)']=df['Humidity']-df['Humidity'].shift(12)\n",
        "df.head()"
      ],
      "metadata": {
        "id": "ne-RzKWMrVcz"
      },
      "execution_count": null,
      "outputs": []
    },
    {
      "cell_type": "code",
      "source": [
        "# Again testing if data is stationary\n",
        "adfuller_test(df['Temperature (C)'].dropna())"
      ],
      "metadata": {
        "id": "-I3vOYdIsLCV"
      },
      "execution_count": null,
      "outputs": []
    },
    {
      "cell_type": "code",
      "source": [
        "df['Temperature (C)'].plot()"
      ],
      "metadata": {
        "id": "t-_2SUlEscOM"
      },
      "execution_count": null,
      "outputs": []
    },
    {
      "cell_type": "code",
      "source": [
        "from pandas.plotting import autocorrelation_plot\n",
        "autocorrelation_plot(df['Humidity'])\n",
        "plt.show()"
      ],
      "metadata": {
        "id": "oVqZb2DwsmJL"
      },
      "execution_count": null,
      "outputs": []
    },
    {
      "cell_type": "code",
      "source": [
        "from statsmodels.graphics.tsaplots import plot_acf,plot_pacf\n",
        "import statsmodels.api as sm\n",
        "fig = plt.figure(figsize=(12,8))\n",
        "ax1 = fig.add_subplot(211)\n",
        "fig = sm.graphics.tsa.plot_acf(df['Temperature (C)'].dropna(),lags=40,ax=ax1)\n",
        "ax2 = fig.add_subplot(212)\n",
        "fig = sm.graphics.tsa.plot_pacf(df['Temperature (C)'].dropna(),lags=40,ax=ax2)"
      ],
      "metadata": {
        "id": "GYLCFMhCsqzm"
      },
      "execution_count": null,
      "outputs": []
    },
    {
      "cell_type": "code",
      "source": [
        "# For non-seasonal data\n",
        "#p=1, d=1, q=0 or 1\n",
        "\n",
        "from statsmodels.tsa.arima.model import ARIMA\n",
        "model=ARIMA(df['Humidity'],order=(1,1,1))\n",
        "model_fit=model.fit()\n",
        "model_fit.summary()"
      ],
      "metadata": {
        "id": "Uu437VpHsxOl"
      },
      "execution_count": null,
      "outputs": []
    },
    {
      "cell_type": "code",
      "source": [
        "df['forecast']=model_fit.predict(start=90000,end=100300,dynamic=True)\n",
        "df[['Humidity','forecast']].plot(figsize=(12,8))"
      ],
      "metadata": {
        "id": "MT06bb3Is2Jv"
      },
      "execution_count": null,
      "outputs": []
    },
    {
      "cell_type": "code",
      "source": [
        "import statsmodels.api as sm\n",
        "model=sm.tsa.statespace.SARIMAX(df['Humidity'],order=(1, 1, 1),seasonal_order=(1,1,1,12))\n",
        "results=model.fit()\n",
        "df['forecast']=results.predict(start=90000,end=100300,dynamic=True)\n",
        "df[['Humidity','forecast']].plot(figsize=(12,8))"
      ],
      "metadata": {
        "id": "e-au4ttotBkc"
      },
      "execution_count": null,
      "outputs": []
    },
    {
      "cell_type": "code",
      "source": [
        "from pandas.tseries.offsets import DateOffset\n",
        "future_dates=[df.index[-1] + DateOffset(day=x)for x in range(0,24)]\n",
        "future_datest_df=pd.DataFrame(index=future_dates[1:],columns=df.columns)\n",
        "\n",
        "future_datest_df.tail()\n",
        "\n",
        "future_df=pd.concat([df,future_datest_df])\n",
        "\n",
        "future_df['forecast'] = results.predict(start = 100301, end = 100500, dynamic= True)\n",
        "future_df[['Humidity', 'forecast']].plot(figsize=(12, 8))"
      ],
      "metadata": {
        "id": "5p-fH9rTyiSK"
      },
      "execution_count": null,
      "outputs": []
    },
    {
      "cell_type": "code",
      "source": [],
      "metadata": {
        "id": "aXAj6Fnz38TE"
      },
      "execution_count": null,
      "outputs": []
    }
  ]
}