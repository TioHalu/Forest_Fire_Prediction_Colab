{
  "nbformat": 4,
  "nbformat_minor": 0,
  "metadata": {
    "colab": {
      "provenance": [],
      "authorship_tag": "ABX9TyNLS2nfKf6jzY8ERZqq1SG3",
      "include_colab_link": true
    },
    "kernelspec": {
      "name": "python3",
      "display_name": "Python 3"
    },
    "language_info": {
      "name": "python"
    }
  },
  "cells": [
    {
      "cell_type": "markdown",
      "metadata": {
        "id": "view-in-github",
        "colab_type": "text"
      },
      "source": [
        "<a href=\"https://colab.research.google.com/github/TioHalu/Forest_Fire_Prediction_Colab/blob/main/LSTM.ipynb\" target=\"_parent\"><img src=\"https://colab.research.google.com/assets/colab-badge.svg\" alt=\"Open In Colab\"/></a>"
      ]
    },
    {
      "cell_type": "code",
      "execution_count": 2,
      "metadata": {
        "colab": {
          "base_uri": "https://localhost:8080/"
        },
        "id": "1pGpnvsWPqdL",
        "outputId": "9f2f5dac-686d-48e3-9f24-b7d60005e528"
      },
      "outputs": [
        {
          "output_type": "stream",
          "name": "stdout",
          "text": [
            "Mounted at /content/drive\n"
          ]
        }
      ],
      "source": [
        "from google.colab import drive\n",
        "drive.mount('/content/drive')"
      ]
    },
    {
      "cell_type": "code",
      "source": [
        "import numpy as np\n",
        "import pandas as pd\n",
        "from sklearn.preprocessing import MinMaxScaler\n",
        "from keras.models import Sequential\n",
        "from keras.layers import Dense, LSTM\n",
        "from sklearn.metrics import mean_squared_error, mean_absolute_error, r2_score"
      ],
      "metadata": {
        "id": "wFwFXMszZcQu"
      },
      "execution_count": 3,
      "outputs": []
    },
    {
      "cell_type": "code",
      "source": [
        "df=pd.read_csv('/content/drive/MyDrive/tugas/dataset/Kab. Muaro Jambi.csv')"
      ],
      "metadata": {
        "id": "gbSilkjeZmOg"
      },
      "execution_count": 52,
      "outputs": []
    },
    {
      "cell_type": "code",
      "source": [
        "# df = df[:-18]\n",
        "import math\n",
        "data  = df.rename(columns={'Tanggal':'Date','Tavg':'Temperature','RH_avg':'Humidity','ff_avg':'Wind','RR':'Rainfall'})\n",
        "data = data[0:100]\n",
        "data = data.replace('',math.nan)\n",
        "data = data.replace(8888,math.nan)\n",
        "data = data.fillna(data.mean())\n",
        "data = data['Temperature']"
      ],
      "metadata": {
        "colab": {
          "base_uri": "https://localhost:8080/"
        },
        "id": "Z_yt6VmbX8QG",
        "outputId": "a6ba79b0-3246-449d-aa79-28733e4fc869"
      },
      "execution_count": 53,
      "outputs": [
        {
          "output_type": "stream",
          "name": "stderr",
          "text": [
            "<ipython-input-53-350fd035f3a0>:7: FutureWarning: Dropping of nuisance columns in DataFrame reductions (with 'numeric_only=None') is deprecated; in a future version this will raise TypeError.  Select only valid columns before calling the reduction.\n",
            "  data = data.fillna(data.mean())\n"
          ]
        }
      ]
    },
    {
      "cell_type": "code",
      "source": [],
      "metadata": {
        "id": "ecGMcnBeZN-u"
      },
      "execution_count": 48,
      "outputs": []
    },
    {
      "cell_type": "code",
      "source": [
        "#data preprocessing\n",
        "# col = ['Formatted Date','Summary','Precip Type','Apparent Temperature (C)','Humidity','Wind Speed (km/h)','Wind Bearing (degrees)','Visibility (km)','Loud Cover','Pressure (millibars)','Daily Summary']\n",
        "# data = df.drop(col, axis=\"columns\", inplace=True)\n",
        "# data= df.drop(df.index[100:])\n",
        "# dataReal = df.drop(df.index[125:])"
      ],
      "metadata": {
        "id": "ykXTuxmJZ3AQ"
      },
      "execution_count": 49,
      "outputs": []
    },
    {
      "cell_type": "code",
      "source": [
        "\n",
        "# Menormalisasi data\n",
        "scaler = MinMaxScaler(feature_range=(0, 1))\n",
        "data_scaled = scaler.fit_transform(data.values.reshape(-1,1))\n",
        "\n",
        "# Splitting the data into training and testing sets\n",
        "train_size = int(len(data_scaled))\n",
        "train_data = data_scaled[:train_size, :]\n",
        "test_data = data_scaled[train_size:, :]\n",
        "\n",
        "# Creating the training and testing sets\n",
        "def create_dataset(dataset, time_steps=1):\n",
        "    X, Y = [], []\n",
        "    for i in range(len(dataset)-time_steps-1):\n",
        "        a = dataset[i:(i+time_steps), :]\n",
        "        X.append(a)\n",
        "        Y.append(dataset[i + time_steps, :])\n",
        "    return np.array(X), np.array(Y)\n",
        "\n",
        "time_steps = 10\n",
        "X_train, y_train = create_dataset(train_data, time_steps)\n",
        "X_test, y_test = create_dataset(test_data, time_steps)\n",
        "\n",
        "# Building the LSTM model\n",
        "model = Sequential()\n",
        "model.add(LSTM(50, return_sequences=True, input_shape=(time_steps, 1)))\n",
        "model.add(LSTM(50))\n",
        "model.add(Dense(1))\n",
        "model.compile(loss='mean_squared_error', optimizer='adam')\n",
        "\n",
        "# Fitting the model\n",
        "model.fit(X_train, y_train, epochs=50, batch_size=64, verbose=2)\n",
        "\n",
        "# Making predictions\n",
        "train_predict = model.predict(X_train)\n",
        "test_predict = model.predict(X_test)\n",
        "\n",
        "# Inverting the scaling\n",
        "train_predict = scaler.inverse_transform(train_predict)\n",
        "y_train = scaler.inverse_transform(y_train)\n",
        "test_predict = scaler.inverse_transform(test_predict)\n",
        "y_test = scaler.inverse_transform(y_test)\n",
        "\n",
        "# Calculating the evaluation metrics\n",
        "mape = np.mean(np.abs((y_test - test_predict) / y_test)) * 100\n",
        "mae = mean_absolute_error(y_test, test_predict)\n",
        "r2 = r2_score(y_test, test_predict)\n",
        "mse = mean_squared_error(y_test, test_predict)\n",
        "\n",
        "print(\"MAPE: \", mape)\n",
        "print(\"MAE: \", mae)\n",
        "print(\"R-squared: \", r2)\n",
        "print(\"MSE: \", mse)"
      ],
      "metadata": {
        "colab": {
          "base_uri": "https://localhost:8080/",
          "height": 1000
        },
        "id": "fYJdx1flZoHs",
        "outputId": "6a1ec5c5-6180-4772-ca09-7ef47a37f00d"
      },
      "execution_count": 9,
      "outputs": [
        {
          "output_type": "stream",
          "name": "stdout",
          "text": [
            "Epoch 1/50\n",
            "2/2 - 4s - loss: 0.4065 - 4s/epoch - 2s/step\n",
            "Epoch 2/50\n",
            "2/2 - 0s - loss: 0.2962 - 28ms/epoch - 14ms/step\n",
            "Epoch 3/50\n",
            "2/2 - 0s - loss: 0.2074 - 31ms/epoch - 15ms/step\n",
            "Epoch 4/50\n",
            "2/2 - 0s - loss: 0.1312 - 36ms/epoch - 18ms/step\n",
            "Epoch 5/50\n",
            "2/2 - 0s - loss: 0.0742 - 31ms/epoch - 15ms/step\n",
            "Epoch 6/50\n",
            "2/2 - 0s - loss: 0.0447 - 30ms/epoch - 15ms/step\n",
            "Epoch 7/50\n",
            "2/2 - 0s - loss: 0.0544 - 30ms/epoch - 15ms/step\n",
            "Epoch 8/50\n",
            "2/2 - 0s - loss: 0.0706 - 36ms/epoch - 18ms/step\n",
            "Epoch 9/50\n",
            "2/2 - 0s - loss: 0.0631 - 35ms/epoch - 17ms/step\n",
            "Epoch 10/50\n",
            "2/2 - 0s - loss: 0.0481 - 36ms/epoch - 18ms/step\n",
            "Epoch 11/50\n",
            "2/2 - 0s - loss: 0.0418 - 36ms/epoch - 18ms/step\n",
            "Epoch 12/50\n",
            "2/2 - 0s - loss: 0.0430 - 31ms/epoch - 16ms/step\n",
            "Epoch 13/50\n",
            "2/2 - 0s - loss: 0.0466 - 29ms/epoch - 15ms/step\n",
            "Epoch 14/50\n",
            "2/2 - 0s - loss: 0.0485 - 29ms/epoch - 15ms/step\n",
            "Epoch 15/50\n",
            "2/2 - 0s - loss: 0.0479 - 28ms/epoch - 14ms/step\n",
            "Epoch 16/50\n",
            "2/2 - 0s - loss: 0.0451 - 30ms/epoch - 15ms/step\n",
            "Epoch 17/50\n",
            "2/2 - 0s - loss: 0.0423 - 29ms/epoch - 15ms/step\n",
            "Epoch 18/50\n",
            "2/2 - 0s - loss: 0.0404 - 29ms/epoch - 14ms/step\n",
            "Epoch 19/50\n",
            "2/2 - 0s - loss: 0.0414 - 28ms/epoch - 14ms/step\n",
            "Epoch 20/50\n",
            "2/2 - 0s - loss: 0.0427 - 28ms/epoch - 14ms/step\n",
            "Epoch 21/50\n",
            "2/2 - 0s - loss: 0.0434 - 41ms/epoch - 20ms/step\n",
            "Epoch 22/50\n",
            "2/2 - 0s - loss: 0.0426 - 42ms/epoch - 21ms/step\n",
            "Epoch 23/50\n",
            "2/2 - 0s - loss: 0.0413 - 28ms/epoch - 14ms/step\n",
            "Epoch 24/50\n",
            "2/2 - 0s - loss: 0.0404 - 28ms/epoch - 14ms/step\n",
            "Epoch 25/50\n",
            "2/2 - 0s - loss: 0.0406 - 33ms/epoch - 17ms/step\n",
            "Epoch 26/50\n",
            "2/2 - 0s - loss: 0.0416 - 28ms/epoch - 14ms/step\n",
            "Epoch 27/50\n",
            "2/2 - 0s - loss: 0.0422 - 29ms/epoch - 15ms/step\n",
            "Epoch 28/50\n",
            "2/2 - 0s - loss: 0.0422 - 28ms/epoch - 14ms/step\n",
            "Epoch 29/50\n",
            "2/2 - 0s - loss: 0.0416 - 29ms/epoch - 14ms/step\n",
            "Epoch 30/50\n",
            "2/2 - 0s - loss: 0.0408 - 29ms/epoch - 15ms/step\n",
            "Epoch 31/50\n",
            "2/2 - 0s - loss: 0.0406 - 30ms/epoch - 15ms/step\n",
            "Epoch 32/50\n",
            "2/2 - 0s - loss: 0.0406 - 32ms/epoch - 16ms/step\n",
            "Epoch 33/50\n",
            "2/2 - 0s - loss: 0.0408 - 36ms/epoch - 18ms/step\n",
            "Epoch 34/50\n",
            "2/2 - 0s - loss: 0.0409 - 45ms/epoch - 23ms/step\n",
            "Epoch 35/50\n",
            "2/2 - 0s - loss: 0.0406 - 44ms/epoch - 22ms/step\n",
            "Epoch 36/50\n",
            "2/2 - 0s - loss: 0.0402 - 46ms/epoch - 23ms/step\n",
            "Epoch 37/50\n",
            "2/2 - 0s - loss: 0.0404 - 62ms/epoch - 31ms/step\n",
            "Epoch 38/50\n",
            "2/2 - 0s - loss: 0.0407 - 52ms/epoch - 26ms/step\n",
            "Epoch 39/50\n",
            "2/2 - 0s - loss: 0.0409 - 42ms/epoch - 21ms/step\n",
            "Epoch 40/50\n",
            "2/2 - 0s - loss: 0.0407 - 43ms/epoch - 21ms/step\n",
            "Epoch 41/50\n",
            "2/2 - 0s - loss: 0.0405 - 42ms/epoch - 21ms/step\n",
            "Epoch 42/50\n",
            "2/2 - 0s - loss: 0.0402 - 43ms/epoch - 22ms/step\n",
            "Epoch 43/50\n",
            "2/2 - 0s - loss: 0.0403 - 43ms/epoch - 21ms/step\n",
            "Epoch 44/50\n",
            "2/2 - 0s - loss: 0.0404 - 45ms/epoch - 22ms/step\n",
            "Epoch 45/50\n",
            "2/2 - 0s - loss: 0.0406 - 45ms/epoch - 23ms/step\n",
            "Epoch 46/50\n",
            "2/2 - 0s - loss: 0.0405 - 45ms/epoch - 23ms/step\n",
            "Epoch 47/50\n",
            "2/2 - 0s - loss: 0.0403 - 43ms/epoch - 22ms/step\n",
            "Epoch 48/50\n",
            "2/2 - 0s - loss: 0.0403 - 44ms/epoch - 22ms/step\n",
            "Epoch 49/50\n",
            "2/2 - 0s - loss: 0.0402 - 42ms/epoch - 21ms/step\n",
            "Epoch 50/50\n",
            "2/2 - 0s - loss: 0.0402 - 41ms/epoch - 21ms/step\n",
            "3/3 [==============================] - 1s 11ms/step\n"
          ]
        },
        {
          "output_type": "error",
          "ename": "ValueError",
          "evalue": "ignored",
          "traceback": [
            "\u001b[0;31m---------------------------------------------------------------------------\u001b[0m",
            "\u001b[0;31mValueError\u001b[0m                                Traceback (most recent call last)",
            "\u001b[0;32m<ipython-input-9-a0a5797efd38>\u001b[0m in \u001b[0;36m<module>\u001b[0;34m\u001b[0m\n\u001b[1;32m     33\u001b[0m \u001b[0;31m# Making predictions\u001b[0m\u001b[0;34m\u001b[0m\u001b[0;34m\u001b[0m\u001b[0m\n\u001b[1;32m     34\u001b[0m \u001b[0mtrain_predict\u001b[0m \u001b[0;34m=\u001b[0m \u001b[0mmodel\u001b[0m\u001b[0;34m.\u001b[0m\u001b[0mpredict\u001b[0m\u001b[0;34m(\u001b[0m\u001b[0mX_train\u001b[0m\u001b[0;34m)\u001b[0m\u001b[0;34m\u001b[0m\u001b[0;34m\u001b[0m\u001b[0m\n\u001b[0;32m---> 35\u001b[0;31m \u001b[0mtest_predict\u001b[0m \u001b[0;34m=\u001b[0m \u001b[0mmodel\u001b[0m\u001b[0;34m.\u001b[0m\u001b[0mpredict\u001b[0m\u001b[0;34m(\u001b[0m\u001b[0mX_test\u001b[0m\u001b[0;34m)\u001b[0m\u001b[0;34m\u001b[0m\u001b[0;34m\u001b[0m\u001b[0m\n\u001b[0m\u001b[1;32m     36\u001b[0m \u001b[0;34m\u001b[0m\u001b[0m\n\u001b[1;32m     37\u001b[0m \u001b[0;31m# Inverting the scaling\u001b[0m\u001b[0;34m\u001b[0m\u001b[0;34m\u001b[0m\u001b[0m\n",
            "\u001b[0;32m/usr/local/lib/python3.9/dist-packages/keras/utils/traceback_utils.py\u001b[0m in \u001b[0;36merror_handler\u001b[0;34m(*args, **kwargs)\u001b[0m\n\u001b[1;32m     68\u001b[0m             \u001b[0;31m# To get the full stack trace, call:\u001b[0m\u001b[0;34m\u001b[0m\u001b[0;34m\u001b[0m\u001b[0m\n\u001b[1;32m     69\u001b[0m             \u001b[0;31m# `tf.debugging.disable_traceback_filtering()`\u001b[0m\u001b[0;34m\u001b[0m\u001b[0;34m\u001b[0m\u001b[0m\n\u001b[0;32m---> 70\u001b[0;31m             \u001b[0;32mraise\u001b[0m \u001b[0me\u001b[0m\u001b[0;34m.\u001b[0m\u001b[0mwith_traceback\u001b[0m\u001b[0;34m(\u001b[0m\u001b[0mfiltered_tb\u001b[0m\u001b[0;34m)\u001b[0m \u001b[0;32mfrom\u001b[0m \u001b[0;32mNone\u001b[0m\u001b[0;34m\u001b[0m\u001b[0;34m\u001b[0m\u001b[0m\n\u001b[0m\u001b[1;32m     71\u001b[0m         \u001b[0;32mfinally\u001b[0m\u001b[0;34m:\u001b[0m\u001b[0;34m\u001b[0m\u001b[0;34m\u001b[0m\u001b[0m\n\u001b[1;32m     72\u001b[0m             \u001b[0;32mdel\u001b[0m \u001b[0mfiltered_tb\u001b[0m\u001b[0;34m\u001b[0m\u001b[0;34m\u001b[0m\u001b[0m\n",
            "\u001b[0;32m/usr/local/lib/python3.9/dist-packages/keras/engine/training.py\u001b[0m in \u001b[0;36mpredict\u001b[0;34m(self, x, batch_size, verbose, steps, callbacks, max_queue_size, workers, use_multiprocessing)\u001b[0m\n\u001b[1;32m   2373\u001b[0m                         )\n\u001b[1;32m   2374\u001b[0m             \u001b[0;32mif\u001b[0m \u001b[0mbatch_outputs\u001b[0m \u001b[0;32mis\u001b[0m \u001b[0;32mNone\u001b[0m\u001b[0;34m:\u001b[0m\u001b[0;34m\u001b[0m\u001b[0;34m\u001b[0m\u001b[0m\n\u001b[0;32m-> 2375\u001b[0;31m                 raise ValueError(\n\u001b[0m\u001b[1;32m   2376\u001b[0m                     \u001b[0;34m\"Unexpected result of `predict_function` \"\u001b[0m\u001b[0;34m\u001b[0m\u001b[0;34m\u001b[0m\u001b[0m\n\u001b[1;32m   2377\u001b[0m                     \u001b[0;34m\"(Empty batch_outputs). Please use \"\u001b[0m\u001b[0;34m\u001b[0m\u001b[0;34m\u001b[0m\u001b[0m\n",
            "\u001b[0;31mValueError\u001b[0m: Unexpected result of `predict_function` (Empty batch_outputs). Please use `Model.compile(..., run_eagerly=True)`, or `tf.config.run_functions_eagerly(True)` for more information of where went wrong, or file a issue/bug to `tf.keras`."
          ]
        }
      ]
    },
    {
      "cell_type": "code",
      "source": [
        "import matplotlib.pyplot as plt\n",
        "plt.plot(Y_test, color=\"black\")\n",
        "plt.plot(test_predict, color='red')\n",
        "# plt.plot(Y_train, color=\"yellow\")\n",
        "# plt.plot(Y_train, color='blue')"
      ],
      "metadata": {
        "id": "1Hbk-BaTZtdj",
        "colab": {
          "base_uri": "https://localhost:8080/",
          "height": 282
        },
        "outputId": "a49d6080-27f9-487e-8463-e715cc8371b1"
      },
      "execution_count": 56,
      "outputs": [
        {
          "output_type": "execute_result",
          "data": {
            "text/plain": [
              "[<matplotlib.lines.Line2D at 0x7fab455ef100>]"
            ]
          },
          "metadata": {},
          "execution_count": 56
        },
        {
          "output_type": "display_data",
          "data": {
            "text/plain": [
              "<Figure size 432x288 with 1 Axes>"
            ],
            "image/png": "[encoded data removed]"
          },
          "metadata": {
            "needs_background": "light"
          }
        }
      ]
    },
    {
      "cell_type": "code",
      "source": [
        "# Import library yang diperlukan\n",
        "import pandas as pd\n",
        "import numpy as np\n",
        "from sklearn.model_selection import train_test_split\n",
        "from sklearn.svm import SVR\n",
        "from sklearn.metrics import mean_squared_error, r2_score\n",
        "\n",
        "# Pisahkan atribut dan label\n",
        "# data = pd.DataFrame(data)\n",
        "X = data.drop(['Temperature'], axis=1)\n",
        "y = data['Temperature']\n",
        "\n",
        "# Bagi data menjadi data latih dan data uji\n",
        "X_train, X_test, y_train, y_test = train_test_split(X, y, test_size=0.2)\n",
        "# y_train\n",
        "\n",
        "# Buat objek SVR dan latih model dengan data latih\n",
        "regressor = SVR(kernel='rbf', C=100, gamma=0.1, epsilon=.1)\n",
        "regressor.fit(X, y_train)\n",
        "\n",
        "# Prediksi nilai temperatur dengan data uji\n",
        "y_pred = regressor.predict(X_test)\n",
        "\n",
        "# # Evaluasi model dengan menggunakan mean squared error dan r-squared score\n",
        "mse = mean_squared_error(y_test, y_pred)\n",
        "r2 = r2_score(y_test, y_pred)\n",
        "\n",
        "# # Cetak hasil evaluasi\n",
        "print('Mean squared error: ', mse)\n",
        "print('R-squared score: ', r2)\n"
      ],
      "metadata": {
        "colab": {
          "base_uri": "https://localhost:8080/",
          "height": 432
        },
        "id": "5kiHw4C1cukl",
        "outputId": "8cebd543-4a82-4a42-97d5-a616d7d23531"
      },
      "execution_count": 54,
      "outputs": [
        {
          "output_type": "error",
          "ename": "ValueError",
          "evalue": "ignored",
          "traceback": [
            "\u001b[0;31m---------------------------------------------------------------------------\u001b[0m",
            "\u001b[0;31mKeyError\u001b[0m                                  Traceback (most recent call last)",
            "\u001b[0;32m/usr/local/lib/python3.9/dist-packages/pandas/core/generic.py\u001b[0m in \u001b[0;36m_get_axis_number\u001b[0;34m(cls, axis)\u001b[0m\n\u001b[1;32m    549\u001b[0m         \u001b[0;32mtry\u001b[0m\u001b[0;34m:\u001b[0m\u001b[0;34m\u001b[0m\u001b[0;34m\u001b[0m\u001b[0m\n\u001b[0;32m--> 550\u001b[0;31m             \u001b[0;32mreturn\u001b[0m \u001b[0mcls\u001b[0m\u001b[0;34m.\u001b[0m\u001b[0m_AXIS_TO_AXIS_NUMBER\u001b[0m\u001b[0;34m[\u001b[0m\u001b[0maxis\u001b[0m\u001b[0;34m]\u001b[0m\u001b[0;34m\u001b[0m\u001b[0;34m\u001b[0m\u001b[0m\n\u001b[0m\u001b[1;32m    551\u001b[0m         \u001b[0;32mexcept\u001b[0m \u001b[0mKeyError\u001b[0m\u001b[0;34m:\u001b[0m\u001b[0;34m\u001b[0m\u001b[0;34m\u001b[0m\u001b[0m\n",
            "\u001b[0;31mKeyError\u001b[0m: 1",
            "\nDuring handling of the above exception, another exception occurred:\n",
            "\u001b[0;31mValueError\u001b[0m                                Traceback (most recent call last)",
            "\u001b[0;32m<ipython-input-54-597e6b713373>\u001b[0m in \u001b[0;36m<module>\u001b[0;34m\u001b[0m\n\u001b[1;32m      8\u001b[0m \u001b[0;31m# Pisahkan atribut dan label\u001b[0m\u001b[0;34m\u001b[0m\u001b[0;34m\u001b[0m\u001b[0m\n\u001b[1;32m      9\u001b[0m \u001b[0;31m# data = pd.DataFrame(data)\u001b[0m\u001b[0;34m\u001b[0m\u001b[0;34m\u001b[0m\u001b[0m\n\u001b[0;32m---> 10\u001b[0;31m \u001b[0mX\u001b[0m \u001b[0;34m=\u001b[0m \u001b[0mdata\u001b[0m\u001b[0;34m.\u001b[0m\u001b[0mdrop\u001b[0m\u001b[0;34m(\u001b[0m\u001b[0;34m[\u001b[0m\u001b[0;34m'Temperature'\u001b[0m\u001b[0;34m]\u001b[0m\u001b[0;34m,\u001b[0m \u001b[0maxis\u001b[0m\u001b[0;34m=\u001b[0m\u001b[0;36m1\u001b[0m\u001b[0;34m)\u001b[0m\u001b[0;34m\u001b[0m\u001b[0;34m\u001b[0m\u001b[0m\n\u001b[0m\u001b[1;32m     11\u001b[0m \u001b[0my\u001b[0m \u001b[0;34m=\u001b[0m \u001b[0mdata\u001b[0m\u001b[0;34m[\u001b[0m\u001b[0;34m'Temperature'\u001b[0m\u001b[0;34m]\u001b[0m\u001b[0;34m\u001b[0m\u001b[0;34m\u001b[0m\u001b[0m\n\u001b[1;32m     12\u001b[0m \u001b[0;34m\u001b[0m\u001b[0m\n",
            "\u001b[0;32m/usr/local/lib/python3.9/dist-packages/pandas/util/_decorators.py\u001b[0m in \u001b[0;36mwrapper\u001b[0;34m(*args, **kwargs)\u001b[0m\n\u001b[1;32m    309\u001b[0m                     \u001b[0mstacklevel\u001b[0m\u001b[0;34m=\u001b[0m\u001b[0mstacklevel\u001b[0m\u001b[0;34m,\u001b[0m\u001b[0;34m\u001b[0m\u001b[0;34m\u001b[0m\u001b[0m\n\u001b[1;32m    310\u001b[0m                 )\n\u001b[0;32m--> 311\u001b[0;31m             \u001b[0;32mreturn\u001b[0m \u001b[0mfunc\u001b[0m\u001b[0;34m(\u001b[0m\u001b[0;34m*\u001b[0m\u001b[0margs\u001b[0m\u001b[0;34m,\u001b[0m \u001b[0;34m**\u001b[0m\u001b[0mkwargs\u001b[0m\u001b[0;34m)\u001b[0m\u001b[0;34m\u001b[0m\u001b[0;34m\u001b[0m\u001b[0m\n\u001b[0m\u001b[1;32m    312\u001b[0m \u001b[0;34m\u001b[0m\u001b[0m\n\u001b[1;32m    313\u001b[0m         \u001b[0;32mreturn\u001b[0m \u001b[0mwrapper\u001b[0m\u001b[0;34m\u001b[0m\u001b[0;34m\u001b[0m\u001b[0m\n",
            "\u001b[0;32m/usr/local/lib/python3.9/dist-packages/pandas/core/series.py\u001b[0m in \u001b[0;36mdrop\u001b[0;34m(self, labels, axis, index, columns, level, inplace, errors)\u001b[0m\n\u001b[1;32m   4769\u001b[0m         \u001b[0mdtype\u001b[0m\u001b[0;34m:\u001b[0m \u001b[0mfloat64\u001b[0m\u001b[0;34m\u001b[0m\u001b[0;34m\u001b[0m\u001b[0m\n\u001b[1;32m   4770\u001b[0m         \"\"\"\n\u001b[0;32m-> 4771\u001b[0;31m         return super().drop(\n\u001b[0m\u001b[1;32m   4772\u001b[0m             \u001b[0mlabels\u001b[0m\u001b[0;34m=\u001b[0m\u001b[0mlabels\u001b[0m\u001b[0;34m,\u001b[0m\u001b[0;34m\u001b[0m\u001b[0;34m\u001b[0m\u001b[0m\n\u001b[1;32m   4773\u001b[0m             \u001b[0maxis\u001b[0m\u001b[0;34m=\u001b[0m\u001b[0maxis\u001b[0m\u001b[0;34m,\u001b[0m\u001b[0;34m\u001b[0m\u001b[0;34m\u001b[0m\u001b[0m\n",
            "\u001b[0;32m/usr/local/lib/python3.9/dist-packages/pandas/core/generic.py\u001b[0m in \u001b[0;36mdrop\u001b[0;34m(self, labels, axis, index, columns, level, inplace, errors)\u001b[0m\n\u001b[1;32m   4252\u001b[0m             \u001b[0;32mif\u001b[0m \u001b[0mindex\u001b[0m \u001b[0;32mis\u001b[0m \u001b[0;32mnot\u001b[0m \u001b[0;32mNone\u001b[0m \u001b[0;32mor\u001b[0m \u001b[0mcolumns\u001b[0m \u001b[0;32mis\u001b[0m \u001b[0;32mnot\u001b[0m \u001b[0;32mNone\u001b[0m\u001b[0;34m:\u001b[0m\u001b[0;34m\u001b[0m\u001b[0;34m\u001b[0m\u001b[0m\n\u001b[1;32m   4253\u001b[0m                 \u001b[0;32mraise\u001b[0m \u001b[0mValueError\u001b[0m\u001b[0;34m(\u001b[0m\u001b[0;34m\"Cannot specify both 'labels' and 'index'/'columns'\"\u001b[0m\u001b[0;34m)\u001b[0m\u001b[0;34m\u001b[0m\u001b[0;34m\u001b[0m\u001b[0m\n\u001b[0;32m-> 4254\u001b[0;31m             \u001b[0maxis_name\u001b[0m \u001b[0;34m=\u001b[0m \u001b[0mself\u001b[0m\u001b[0;34m.\u001b[0m\u001b[0m_get_axis_name\u001b[0m\u001b[0;34m(\u001b[0m\u001b[0maxis\u001b[0m\u001b[0;34m)\u001b[0m\u001b[0;34m\u001b[0m\u001b[0;34m\u001b[0m\u001b[0m\n\u001b[0m\u001b[1;32m   4255\u001b[0m             \u001b[0maxes\u001b[0m \u001b[0;34m=\u001b[0m \u001b[0;34m{\u001b[0m\u001b[0maxis_name\u001b[0m\u001b[0;34m:\u001b[0m \u001b[0mlabels\u001b[0m\u001b[0;34m}\u001b[0m\u001b[0;34m\u001b[0m\u001b[0;34m\u001b[0m\u001b[0m\n\u001b[1;32m   4256\u001b[0m         \u001b[0;32melif\u001b[0m \u001b[0mindex\u001b[0m \u001b[0;32mis\u001b[0m \u001b[0;32mnot\u001b[0m \u001b[0;32mNone\u001b[0m \u001b[0;32mor\u001b[0m \u001b[0mcolumns\u001b[0m \u001b[0;32mis\u001b[0m \u001b[0;32mnot\u001b[0m \u001b[0;32mNone\u001b[0m\u001b[0;34m:\u001b[0m\u001b[0;34m\u001b[0m\u001b[0;34m\u001b[0m\u001b[0m\n",
            "\u001b[0;32m/usr/local/lib/python3.9/dist-packages/pandas/core/generic.py\u001b[0m in \u001b[0;36m_get_axis_name\u001b[0;34m(cls, axis)\u001b[0m\n\u001b[1;32m    555\u001b[0m     \u001b[0;34m@\u001b[0m\u001b[0mclassmethod\u001b[0m\u001b[0;34m\u001b[0m\u001b[0;34m\u001b[0m\u001b[0m\n\u001b[1;32m    556\u001b[0m     \u001b[0;32mdef\u001b[0m \u001b[0m_get_axis_name\u001b[0m\u001b[0;34m(\u001b[0m\u001b[0mcls\u001b[0m\u001b[0;34m,\u001b[0m \u001b[0maxis\u001b[0m\u001b[0;34m:\u001b[0m \u001b[0mAxis\u001b[0m\u001b[0;34m)\u001b[0m \u001b[0;34m->\u001b[0m \u001b[0mstr\u001b[0m\u001b[0;34m:\u001b[0m\u001b[0;34m\u001b[0m\u001b[0;34m\u001b[0m\u001b[0m\n\u001b[0;32m--> 557\u001b[0;31m         \u001b[0maxis_number\u001b[0m \u001b[0;34m=\u001b[0m \u001b[0mcls\u001b[0m\u001b[0;34m.\u001b[0m\u001b[0m_get_axis_number\u001b[0m\u001b[0;34m(\u001b[0m\u001b[0maxis\u001b[0m\u001b[0;34m)\u001b[0m\u001b[0;34m\u001b[0m\u001b[0;34m\u001b[0m\u001b[0m\n\u001b[0m\u001b[1;32m    558\u001b[0m         \u001b[0;32mreturn\u001b[0m \u001b[0mcls\u001b[0m\u001b[0;34m.\u001b[0m\u001b[0m_AXIS_ORDERS\u001b[0m\u001b[0;34m[\u001b[0m\u001b[0maxis_number\u001b[0m\u001b[0;34m]\u001b[0m\u001b[0;34m\u001b[0m\u001b[0;34m\u001b[0m\u001b[0m\n\u001b[1;32m    559\u001b[0m \u001b[0;34m\u001b[0m\u001b[0m\n",
            "\u001b[0;32m/usr/local/lib/python3.9/dist-packages/pandas/core/generic.py\u001b[0m in \u001b[0;36m_get_axis_number\u001b[0;34m(cls, axis)\u001b[0m\n\u001b[1;32m    550\u001b[0m             \u001b[0;32mreturn\u001b[0m \u001b[0mcls\u001b[0m\u001b[0;34m.\u001b[0m\u001b[0m_AXIS_TO_AXIS_NUMBER\u001b[0m\u001b[0;34m[\u001b[0m\u001b[0maxis\u001b[0m\u001b[0;34m]\u001b[0m\u001b[0;34m\u001b[0m\u001b[0;34m\u001b[0m\u001b[0m\n\u001b[1;32m    551\u001b[0m         \u001b[0;32mexcept\u001b[0m \u001b[0mKeyError\u001b[0m\u001b[0;34m:\u001b[0m\u001b[0;34m\u001b[0m\u001b[0;34m\u001b[0m\u001b[0m\n\u001b[0;32m--> 552\u001b[0;31m             \u001b[0;32mraise\u001b[0m \u001b[0mValueError\u001b[0m\u001b[0;34m(\u001b[0m\u001b[0;34mf\"No axis named {axis} for object type {cls.__name__}\"\u001b[0m\u001b[0;34m)\u001b[0m\u001b[0;34m\u001b[0m\u001b[0;34m\u001b[0m\u001b[0m\n\u001b[0m\u001b[1;32m    553\u001b[0m \u001b[0;34m\u001b[0m\u001b[0m\n\u001b[1;32m    554\u001b[0m     \u001b[0;34m@\u001b[0m\u001b[0mfinal\u001b[0m\u001b[0;34m\u001b[0m\u001b[0;34m\u001b[0m\u001b[0m\n",
            "\u001b[0;31mValueError\u001b[0m: No axis named 1 for object type Series"
          ]
        }
      ]
    },
    {
      "cell_type": "code",
      "source": [],
      "metadata": {
        "id": "AWRsg7Udr3sv"
      },
      "execution_count": null,
      "outputs": []
    }
  ]
}