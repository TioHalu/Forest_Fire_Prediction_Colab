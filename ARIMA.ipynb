{
  "nbformat": 4,
  "nbformat_minor": 0,
  "metadata": {
    "colab": {
      "provenance": [],
      "toc_visible": true,
      "mount_file_id": "19e6UicZAfDCPpt_rwAuKZbB7vwKwaUGy",
      "authorship_tag": "ABX9TyO5lMl/kTNhhf0/znoaczX2",
      "include_colab_link": true
    },
    "kernelspec": {
      "name": "python3",
      "display_name": "Python 3"
    },
    "language_info": {
      "name": "python"
    },
    "gpuClass": "standard"
  },
  "cells": [
    {
      "cell_type": "markdown",
      "metadata": {
        "id": "view-in-github",
        "colab_type": "text"
      },
      "source": [
        "<a href=\"https://colab.research.google.com/github/TioHalu/Forest_Fire_Prediction_Colab/blob/main/ARIMA.ipynb\" target=\"_parent\"><img src=\"https://colab.research.google.com/assets/colab-badge.svg\" alt=\"Open In Colab\"/></a>"
      ]
    },
    {
      "cell_type": "code",
      "source": [
        "from google.colab import drive\n",
        "drive.mount('/content/drive')"
      ],
      "metadata": {
        "id": "7344UB1ydq1c",
        "colab": {
          "base_uri": "https://localhost:8080/"
        },
        "outputId": "7305d79b-e156-4229-f4f0-98dc76c7427a"
      },
      "execution_count": 1,
      "outputs": [
        {
          "output_type": "stream",
          "name": "stdout",
          "text": [
            "Drive already mounted at /content/drive; to attempt to forcibly remount, call drive.mount(\"/content/drive\", force_remount=True).\n"
          ]
        }
      ]
    },
    {
      "cell_type": "code",
      "source": [
        "pip install pmdarima"
      ],
      "metadata": {
        "colab": {
          "base_uri": "https://localhost:8080/"
        },
        "id": "HObSDurGU165",
        "outputId": "da5166b9-244c-4c34-8b4a-01f1b9e113d4"
      },
      "execution_count": 2,
      "outputs": [
        {
          "output_type": "stream",
          "name": "stdout",
          "text": [
            "Looking in indexes: https://pypi.org/simple, https://us-python.pkg.dev/colab-wheels/public/simple/\n",
            "Collecting pmdarima\n",
            "  Downloading pmdarima-2.0.3-cp39-cp39-manylinux_2_17_x86_64.manylinux2014_x86_64.manylinux_2_28_x86_64.whl (1.9 MB)\n",
            "\u001b[2K     \u001b[90m━━━━━━━━━━━━━━━━━━━━━━━━━━━━━━━━━━━━━━━━\u001b[0m \u001b[32m1.9/1.9 MB\u001b[0m \u001b[31m40.4 MB/s\u001b[0m eta \u001b[36m0:00:00\u001b[0m\n",
            "\u001b[?25hRequirement already satisfied: pandas>=0.19 in /usr/local/lib/python3.9/dist-packages (from pmdarima) (1.4.4)\n",
            "Requirement already satisfied: scipy>=1.3.2 in /usr/local/lib/python3.9/dist-packages (from pmdarima) (1.10.1)\n",
            "Requirement already satisfied: Cython!=0.29.18,!=0.29.31,>=0.29 in /usr/local/lib/python3.9/dist-packages (from pmdarima) (0.29.33)\n",
            "Requirement already satisfied: scikit-learn>=0.22 in /usr/local/lib/python3.9/dist-packages (from pmdarima) (1.2.2)\n",
            "Requirement already satisfied: setuptools!=50.0.0,>=38.6.0 in /usr/local/lib/python3.9/dist-packages (from pmdarima) (67.6.1)\n",
            "Requirement already satisfied: numpy>=1.21.2 in /usr/local/lib/python3.9/dist-packages (from pmdarima) (1.22.4)\n",
            "Requirement already satisfied: statsmodels>=0.13.2 in /usr/local/lib/python3.9/dist-packages (from pmdarima) (0.13.5)\n",
            "Requirement already satisfied: urllib3 in /usr/local/lib/python3.9/dist-packages (from pmdarima) (1.26.15)\n",
            "Requirement already satisfied: joblib>=0.11 in /usr/local/lib/python3.9/dist-packages (from pmdarima) (1.1.1)\n",
            "Requirement already satisfied: pytz>=2020.1 in /usr/local/lib/python3.9/dist-packages (from pandas>=0.19->pmdarima) (2022.7.1)\n",
            "Requirement already satisfied: python-dateutil>=2.8.1 in /usr/local/lib/python3.9/dist-packages (from pandas>=0.19->pmdarima) (2.8.2)\n",
            "Requirement already satisfied: threadpoolctl>=2.0.0 in /usr/local/lib/python3.9/dist-packages (from scikit-learn>=0.22->pmdarima) (3.1.0)\n",
            "Requirement already satisfied: patsy>=0.5.2 in /usr/local/lib/python3.9/dist-packages (from statsmodels>=0.13.2->pmdarima) (0.5.3)\n",
            "Requirement already satisfied: packaging>=21.3 in /usr/local/lib/python3.9/dist-packages (from statsmodels>=0.13.2->pmdarima) (23.0)\n",
            "Requirement already satisfied: six in /usr/local/lib/python3.9/dist-packages (from patsy>=0.5.2->statsmodels>=0.13.2->pmdarima) (1.16.0)\n",
            "Installing collected packages: pmdarima\n",
            "Successfully installed pmdarima-2.0.3\n"
          ]
        }
      ]
    },
    {
      "cell_type": "code",
      "source": [
        "\n",
        "import numpy as np\n",
        "import pandas as pd\n",
        "import matplotlib.pyplot as plt\n",
        "import statsmodels.api as sm\n",
        "from sklearn.metrics import mean_squared_error\n",
        "from keras.models import Sequential\n",
        "from keras.layers import LSTM, Dense\n",
        "from sklearn.preprocessing import MinMaxScaler\n",
        "import math\n",
        "import statsmodels.api as sm\n",
        "from itertools import product\n",
        "import itertools\n",
        "from sklearn.metrics import mean_squared_error,mean_absolute_error,r2_score\n",
        "from sklearn.metrics import mean_absolute_percentage_error\n",
        "from statsmodels.tsa.arima.model import ARIMA\n",
        "from pmdarima import auto_arima\n",
        "import warnings\n",
        "from sklearn.metrics import r2_score\n",
        "from sklearn.model_selection import train_test_split\n",
        "from statsmodels.tsa.stattools import adfuller\n",
        "\n",
        "from statsmodels.tsa.statespace.sarimax import SARIMAX"
      ],
      "metadata": {
        "id": "tf5YOY4Jd4xE"
      },
      "execution_count": 3,
      "outputs": []
    },
    {
      "cell_type": "markdown",
      "source": [],
      "metadata": {
        "id": "diZjzX3Zrh3m"
      }
    },
    {
      "cell_type": "code",
      "source": [
        "import pandas as pd\n",
        "import numpy as np\n",
        "from pmdarima.arima import auto_arima\n",
        "from statsmodels.tsa.arima.model import ARIMA\n",
        "from sklearn.metrics import r2_score\n",
        "\n",
        "data=pd.read_csv('/content/drive/MyDrive/tugas/dataset/Kab. Muaro Jambi.csv',parse_dates=True)\n",
        "data  = data.rename(columns={'Tanggal':'Date','Tavg':'Temperature','RH_avg':'Humidity','ff_avg':'Wind','RR':'Rainfall'})\n",
        "data = data[1:100]\n",
        "data = data['Humidity']\n",
        "data = data.replace('',math.nan)\n",
        "data = data.replace(8888.0,math.nan)\n",
        "data = data.replace(0.0,math.nan)\n",
        "data = data.fillna(data.mean())\n",
        "warnings.filterwarnings('ignore')\n",
        "\n",
        "# split data into train and test sets\n",
        "train_size = int(len(data) * 0.8)\n",
        "train_data, test_data = data[:train_size], data[train_size:]\n",
        "\n",
        "# fit ARIMA model to training data\n",
        "model = auto_arima(train_data, seasonal=False, error_action='ignore', suppress_warnings=True)\n",
        "model.fit(train_data)\n",
        "\n",
        "# define function for rolling forecasting\n",
        "def rolling_forecast(data, model, window_size):\n",
        "    forecasts = []\n",
        "    actuals = []\n",
        "    for i in range(window_size, len(data)):\n",
        "        # get train data and test data for this iteration\n",
        "        train_data = data[i-window_size:i]\n",
        "        test_data = data[i]\n",
        "        \n",
        "        # fit ARIMA model to train data and make prediction\n",
        "        model = ARIMA(train_data, order=model.order)\n",
        "        model_fit = model.fit()\n",
        "        forecast = model_fit.forecast()[0]\n",
        "        \n",
        "        # append forecast and actual values\n",
        "        forecasts.append(forecast)\n",
        "        actuals.append(test_data)\n",
        "    \n",
        "    # calculate r square\n",
        "    r2 = r2_score(actuals, forecasts)\n",
        "    \n",
        "    return r2\n",
        "\n",
        "# define window size for rolling forecasting\n",
        "window_size = 12\n",
        "\n",
        "# perform rolling forecasting with different models and select the one with the highest r square\n",
        "best_model = None\n",
        "best_r2 = -np.inf\n",
        "for p in range(3):\n",
        "    for d in range(3):\n",
        "        for q in range(3):\n",
        "            try:\n",
        "                model = ARIMA(train_data, order=(p, d, q))\n",
        "                model_fit = model.fit()\n",
        "                r2 = rolling_forecast(test_data, model_fit, window_size)\n",
        "                if r2 > best_r2:\n",
        "                    best_r2 = r2\n",
        "                    best_model = model_fit\n",
        "            except:\n",
        "                continue\n",
        "\n",
        "# make predictions with the best model\n",
        "predictions = []\n",
        "for i in range(len(test_data)):\n",
        "    model = ARIMA(data[:train_size+i], order=(1,2,2))\n",
        "    model_fit = model.fit()\n",
        "    forecast = model_fit.forecast()\n",
        "    predictions.append(forecast)\n",
        "\n",
        "# calculate r square\n",
        "r2 = r2_score(test_data, predictions)\n",
        "r2"
      ],
      "metadata": {
        "colab": {
          "base_uri": "https://localhost:8080/"
        },
        "id": "vw9BkP9aPbwb",
        "outputId": "23411daf-8a96-4438-a299-effd4e1a94e2"
      },
      "execution_count": 4,
      "outputs": [
        {
          "output_type": "execute_result",
          "data": {
            "text/plain": [
              "-0.8880592473025191"
            ]
          },
          "metadata": {},
          "execution_count": 4
        }
      ]
    },
    {
      "cell_type": "code",
      "source": [
        "data=pd.read_csv('/content/drive/MyDrive/tugas/dataset/Kab. Muaro Jambi.csv',parse_dates=True)\n",
        "data  = data.rename(columns={'Tanggal':'Date','Tavg':'Temperature','RH_avg':'Humidity','ff_avg':'Wind','RR':'Rainfall'})\n",
        "data = data[1:100]\n",
        "data = data['Humidity']\n",
        "data = data.replace('',math.nan)\n",
        "data = data.replace(8888.0,math.nan)\n",
        "data = data.replace(0.0,math.nan)\n",
        "data = data.fillna(data.mean())\n",
        "warnings.filterwarnings('ignore')\n",
        "# Split data into train and test sets\n",
        "train_size = int(len(data) * 0.8)\n",
        "train, test = data[:90], data[90:]\n",
        "# Define parameter grid for ARIMA\n",
        "p_values = range(0, 4)\n",
        "d_values = range(0, 2)\n",
        "q_values = range(0, 4)\n",
        "\n",
        "# Define parameter grid for SARIMA\n",
        "P_values = range(0, 4)\n",
        "D_values = range(0, 2)\n",
        "Q_values = range(0, 4)\n",
        "m_values = range(12, 13)\n",
        "\n",
        "# Initialize variables\n",
        "best_score, best_cfg = float('-inf'), None\n",
        "best_sarima_score, best_sarima_cfg = float('-inf'), None\n",
        "\n",
        "# Iterate over all possible combinations of p, d, and q for ARIMA\n",
        "for p in p_values:\n",
        "    for d in d_values:\n",
        "        for q in q_values:\n",
        "            # Skip if p, d, and q are all 0\n",
        "            if p==0 and d==0 and q==0:\n",
        "                continue\n",
        "            \n",
        "            # Define and fit the ARIMA model\n",
        "            model = ARIMA(train, order=(20,d,q))\n",
        "            model_fit = model.fit()\n",
        "            \n",
        "            # Make predictions and calculate R-squared\n",
        "            predictions = model_fit.predict(start=len(train), end = len(train)+len(test)-1)\n",
        "\n",
        "            r2 = r2_score(test, predictions)\n",
        "            # Update best score and configuration if R-squared is higher\n",
        "            if r2 > best_score:\n",
        "                best_score, best_cfg, arima = r2, (p,d,q), predictions\n",
        "\n",
        "# Iterate over all possible combinations of p, d, q, and m for SARIMA\n",
        "for P in P_values:\n",
        "    for D in D_values:\n",
        "        for Q in Q_values:\n",
        "            for m in m_values:\n",
        "                # Skip if p, d, and q are all 0\n",
        "                if P==0 and D==0 and Q==0:\n",
        "                    continue\n",
        "                \n",
        "                # Define and fit the SARIMA model\n",
        "                model = SARIMAX(data, order=(P,D,Q), seasonal_order=(P,D,Q,m))\n",
        "                model_fit = model.fit()\n",
        "                \n",
        "                # Make predictions and calculate R-squared\n",
        "                predictions = model_fit.predict(start=len(train), end = len(train)+len(test)-1)\n",
        "                r2 = r2_score(test, predictions)\n",
        "                \n",
        "                # Update best score and configuration if R-squared is higher\n",
        "                if r2 > best_sarima_score:\n",
        "                    best_sarima_score, best_sarima_cfg, sarima = r2, (P,D,Q,m), predictions\n",
        "\n",
        "# Print the best configuration and score for ARIMA and SARIMA\n",
        "print('Best ARIMA configuration: p={}, d={}, q={}'.format(best_cfg[0], best_cfg[1], best_cfg[2]))\n",
        "print('Best ARIMA R-squared score: {:.2f}'.format(best_score))\n",
        "print('Best SARIMA configuration: P={}, D={}, Q={}, m={}'.format(best_sarima_cfg[0], best_sarima_cfg[1], best_sarima_cfg[2], best_sarima_cfg[3]))\n",
        "print('Best SARIMA R-squared score: {:.2f}'.format(best_sarima_score))\n",
        "\n",
        "plt.plot(sarima, color=\"red\")\n",
        "plt.plot(arima, color=\"yellow\")\n",
        "plt.plot(test, color=\"blue\")"
      ],
      "metadata": {
        "colab": {
          "base_uri": "https://localhost:8080/",
          "height": 517
        },
        "id": "N8SBaBbSYtpx",
        "outputId": "4d91f890-ac75-4ab2-ac67-523a3680b42e"
      },
      "execution_count": null,
      "outputs": [
        {
          "output_type": "stream",
          "name": "stdout",
          "text": [
            "Best ARIMA configuration: p=0, d=1, q=2\n",
            "Best ARIMA R-squared score: -0.33\n",
            "Best SARIMA configuration: P=2, D=1, Q=2, m=12\n",
            "Best SARIMA R-squared score: 0.51\n"
          ]
        },
        {
          "output_type": "execute_result",
          "data": {
            "text/plain": [
              "[<matplotlib.lines.Line2D at 0x7f62a4dce100>]"
            ]
          },
          "metadata": {},
          "execution_count": 7
        },
        {
          "output_type": "display_data",
          "data": {
            "text/plain": [
              "<Figure size 640x480 with 1 Axes>"
            ],
            "image/png": "[encoded data removed]"
          },
          "metadata": {}
        }
      ]
    },
    {
      "cell_type": "code",
      "source": [
        "import pandas as pd\n",
        "import numpy as np\n",
        "from tensorflow.keras.models import Sequential\n",
        "from tensorflow.keras.layers import Dense, LSTM\n",
        "from sklearn.metrics import r2_score\n",
        "from sklearn.model_selection import TimeSeriesSplit\n",
        "\n",
        "data=pd.read_csv('/content/drive/MyDrive/tugas/dataset/Kab. Muaro Jambi.csv',parse_dates=True)\n",
        "data  = data.rename(columns={'Tanggal':'Date','Tavg':'Temperature','RH_avg':'Humidity','ff_avg':'Wind','RR':'Rainfall'})\n",
        "data = data[1:100]\n",
        "data = data['Temperature']\n",
        "data = data.replace('',math.nan)\n",
        "data = data.replace(8888.0,math.nan)\n",
        "data = data.replace(0.0,math.nan)\n",
        "data = data.fillna(data.mean())\n",
        "data = pd.DataFrame(data)\n",
        "\n",
        "# Scale the data\n",
        "scaler = MinMaxScaler()\n",
        "data_scaled = scaler.fit_transform(data)\n",
        "\n",
        "# Define the function to create LSTM model\n",
        "def create_lstm_model(units=50, dropout_rate=0.2):\n",
        "    model = Sequential()\n",
        "    model.add(LSTM(units=units, input_shape=(1,1), dropout=dropout_rate))\n",
        "    model.add(Dense(1))\n",
        "    model.compile(loss='mse', optimizer='adam')\n",
        "    return model\n",
        "\n",
        "# Define parameter grid\n",
        "unit_values = [10, 50, 100]\n",
        "dropout_values = [0.1, 0.2, 0.3]\n",
        "\n",
        "# Initialize variables\n",
        "best_score, best_cfg = float('-inf'), None\n",
        "\n",
        "# Perform time series cross validation\n",
        "tscv = TimeSeriesSplit(n_splits=3)\n",
        "for train_idx, test_idx in tscv.split(data_scaled):\n",
        "    train_data_scaled = data_scaled[train_idx]\n",
        "    test_data_scaled = data_scaled[test_idx]\n",
        "    \n",
        "    # Iterate over all possible combinations of units and dropout\n",
        "    for units in unit_values:\n",
        "        for dropout_rate in dropout_values:\n",
        "            # Define and fit the LSTM model\n",
        "            model = create_lstm_model(units=units, dropout_rate=dropout_rate)\n",
        "            model.fit(train_data_scaled[:-1].reshape(-1,1,1), train_data_scaled[1:], epochs=100, verbose=0)\n",
        "            \n",
        "            # Make predictions and calculate R-squared\n",
        "            train_predictions_scaled = model.predict(train_data_scaled[:-1].reshape(-1,1,1))\n",
        "            test_predictions_scaled = model.predict(test_data_scaled[:-1].reshape(-1,1,1))\n",
        "            train_predictions = scaler.inverse_transform(train_predictions_scaled).flatten()\n",
        "            test_predictions = scaler.inverse_transform(test_predictions_scaled).flatten()\n",
        "            train_r2 = r2_score(data.iloc[train_idx][1:], train_predictions)\n",
        "            test_r2 = r2_score(data.iloc[test_idx][1:], test_predictions)\n",
        "            \n",
        "            # Update best score and configuration if R-squared is higher\n",
        "            if test_r2 > best_score:\n",
        "                best_score, best_cfg = test_r2, (units, dropout_rate)\n",
        "                \n",
        "# Print the best configuration and score\n",
        "print('Best LSTM configuration: units={}, dropout={}'.format(best_cfg[0], best_cfg[1]))\n",
        "print('Best R-squared score: {:.2f}'.format(best_score))\n",
        "plt.plot(data.iloc[test_idx][1:],color=\"red\")\n",
        "plt.plot(test_predictions, color=\"yellow\")"
      ],
      "metadata": {
        "colab": {
          "base_uri": "https://localhost:8080/",
          "height": 1000
        },
        "id": "jlXCuDNmSwKY",
        "outputId": "15129f0d-b920-47ab-cdc8-607c16faa428"
      },
      "execution_count": null,
      "outputs": [
        {
          "output_type": "stream",
          "name": "stdout",
          "text": [
            "1/1 [==============================] - 1s 644ms/step\n",
            "1/1 [==============================] - 0s 37ms/step\n",
            "1/1 [==============================] - 0s 289ms/step\n",
            "1/1 [==============================] - 0s 17ms/step\n",
            "1/1 [==============================] - 1s 583ms/step\n",
            "1/1 [==============================] - 0s 37ms/step\n",
            "1/1 [==============================] - 0s 304ms/step\n",
            "1/1 [==============================] - 0s 20ms/step\n",
            "1/1 [==============================] - 0s 299ms/step\n",
            "1/1 [==============================] - 0s 16ms/step\n",
            "1/1 [==============================] - 0s 283ms/step\n",
            "1/1 [==============================] - 0s 17ms/step\n",
            "1/1 [==============================] - 1s 608ms/step\n",
            "1/1 [==============================] - 0s 33ms/step\n",
            "1/1 [==============================] - 0s 311ms/step\n",
            "1/1 [==============================] - 0s 17ms/step\n",
            "1/1 [==============================] - 0s 300ms/step\n",
            "1/1 [==============================] - 0s 20ms/step\n",
            "2/2 [==============================] - 0s 4ms/step\n",
            "1/1 [==============================] - 0s 19ms/step\n",
            "2/2 [==============================] - 0s 7ms/step\n",
            "1/1 [==============================] - 0s 18ms/step\n",
            "2/2 [==============================] - 0s 6ms/step\n",
            "1/1 [==============================] - 0s 18ms/step\n",
            "2/2 [==============================] - 0s 7ms/step\n",
            "1/1 [==============================] - 0s 19ms/step\n",
            "2/2 [==============================] - 0s 6ms/step\n",
            "1/1 [==============================] - 0s 17ms/step\n",
            "2/2 [==============================] - 1s 5ms/step\n",
            "1/1 [==============================] - 0s 34ms/step\n",
            "2/2 [==============================] - 0s 6ms/step\n",
            "1/1 [==============================] - 0s 17ms/step\n",
            "2/2 [==============================] - 0s 6ms/step\n",
            "1/1 [==============================] - 0s 22ms/step\n",
            "2/2 [==============================] - 0s 7ms/step\n",
            "1/1 [==============================] - 0s 18ms/step\n",
            "3/3 [==============================] - 1s 3ms/step\n",
            "1/1 [==============================] - 0s 33ms/step\n",
            "3/3 [==============================] - 0s 4ms/step\n",
            "1/1 [==============================] - 0s 17ms/step\n",
            "3/3 [==============================] - 0s 4ms/step\n",
            "1/1 [==============================] - 0s 17ms/step\n",
            "3/3 [==============================] - 0s 5ms/step\n",
            "1/1 [==============================] - 0s 17ms/step\n",
            "3/3 [==============================] - 1s 6ms/step\n",
            "1/1 [==============================] - 0s 47ms/step\n",
            "3/3 [==============================] - 0s 3ms/step\n",
            "1/1 [==============================] - 0s 17ms/step\n",
            "3/3 [==============================] - 0s 5ms/step\n",
            "1/1 [==============================] - 0s 19ms/step\n",
            "3/3 [==============================] - 0s 4ms/step\n",
            "1/1 [==============================] - 0s 19ms/step\n",
            "3/3 [==============================] - 0s 4ms/step\n",
            "1/1 [==============================] - 0s 19ms/step\n",
            "Best LSTM configuration: units=50, dropout=0.1\n",
            "Best R-squared score: 0.03\n"
          ]
        },
        {
          "output_type": "execute_result",
          "data": {
            "text/plain": [
              "[<matplotlib.lines.Line2D at 0x7f8dc8c8be80>]"
            ]
          },
          "metadata": {},
          "execution_count": 51
        },
        {
          "output_type": "display_data",
          "data": {
            "text/plain": [
              "<Figure size 640x480 with 1 Axes>"
            ],
            "image/png": "[encoded data removed]"
          },
          "metadata": {}
        }
      ]
    },
    {
      "cell_type": "code",
      "source": [
        "# Import library yang dibutuhkan\n",
        "import pandas as pd\n",
        "import numpy as np\n",
        "from sklearn import svm\n",
        "from sklearn.model_selection import GridSearchCV, train_test_split\n",
        "from sklearn.metrics import r2_score\n",
        "import matplotlib.pyplot as plt\n",
        "from statsmodels.tsa.api import ExponentialSmoothing\n",
        "from sklearn.metrics import r2_score, mean_squared_error\n",
        "\n",
        "data=pd.read_csv('/content/drive/MyDrive/tugas/dataset/Copy of Kab. Badung.csv',parse_dates=True)\n",
        "data  = data.rename(columns={'Tanggal':'Date','Tavg':'Temperature','RH_avg':'Humidity','ff_avg':'Wind','RR':'Rainfall'})\n",
        "data = data[1:100]\n",
        "data = data['Temperature']\n",
        "data = data.replace('',math.nan)\n",
        "data = data.replace(8888.0,math.nan)\n",
        "data = data.replace(0.0,math.nan)\n",
        "data = data.fillna(data.mean())\n",
        "warnings.filterwarnings('ignore')\n",
        "data = pd.DataFrame(data)\n",
        "\n",
        "# Split data into train and test sets\n",
        "train_size = int(len(data) * 0.8)\n",
        "train, test = data[:90], data[90:]\n",
        "\n",
        "# Set parameter untuk Grid Search\n",
        "param_grid = {'seasonal': ['additive', 'multiplicative'],\n",
        "              'trend': ['additive', 'multiplicative'],\n",
        "              'seasonal_periods': [4, 12],\n",
        "              'smoothing_level': np.linspace(0.1, 0.9, 9),\n",
        "              'smoothing_slope': np.linspace(0.1, 0.9, 9),\n",
        "              'smoothing_seasonal': np.linspace(0.1, 0.9, 9)}\n",
        "\n",
        "# Lakukan Grid Search dengan menggunakan training set\n",
        "results = []\n",
        "for seasonal in param_grid['seasonal']:\n",
        "    for trend in param_grid['trend']:\n",
        "        for seasonal_period in param_grid['seasonal_periods']:\n",
        "            for smoothing_level in param_grid['smoothing_level']:\n",
        "                for smoothing_slope in param_grid['smoothing_slope']:\n",
        "                    for smoothing_seasonal in param_grid['smoothing_seasonal']:\n",
        "                        try:\n",
        "                            model = ExponentialSmoothing(train, \n",
        "                                                         seasonal=seasonal, \n",
        "                                                         trend=trend, \n",
        "                                                         seasonal_periods=seasonal_period)\n",
        "                            model_fit = model.fit(smoothing_level=smoothing_level, \n",
        "                                                  smoothing_slope=smoothing_slope, \n",
        "                                                  smoothing_seasonal=smoothing_seasonal)\n",
        "                             # Make predictions and calculate R-squared\n",
        "                            predictions = model_fit.predict(start=len(train), end = len(train)+len(test)-1)\n",
        "\n",
        "                            r2 = r2_score(test, predictions)\n",
        "                            results.append((seasonal, trend, seasonal_period, smoothing_level, smoothing_slope, smoothing_seasonal, r2))\n",
        "                        except:\n",
        "                            print(\"fs\")\n",
        "\n",
        "# Cari parameter yang menghasilkan r-square terbaik\n",
        "best_params = max(results, key=lambda x: x[-1])\n",
        "model = ExponentialSmoothing(train,\n",
        "                             seasonal=best_params[0],\n",
        "                             trend=best_params[1],\n",
        "                             seasonal_periods=best_params[2])\n",
        "model_fit = model.fit(smoothing_level=best_params[3], \n",
        "                      smoothing_slope=best_params[4], \n",
        "                      smoothing_seasonal=best_params[5])\n",
        "predictions = model_fit.forecast(len(test))\n",
        "r2 = r2_score(test, predictions)\n",
        "print(r2)\n",
        "plt.plot(predictions, color=\"red\")\n",
        "plt.plot(test, color=\"yellow\")"
      ],
      "metadata": {
        "colab": {
          "base_uri": "https://localhost:8080/",
          "height": 517
        },
        "id": "UOYZsIZ7bbi-",
        "outputId": "ede4dc65-030e-4fa6-f622-a951f90510dc"
      },
      "execution_count": 7,
      "outputs": [
        {
          "output_type": "stream",
          "name": "stdout",
          "text": [
            "fs\n",
            "fs\n",
            "fs\n",
            "0.4120079518095968\n"
          ]
        },
        {
          "output_type": "execute_result",
          "data": {
            "text/plain": [
              "[<matplotlib.lines.Line2D at 0x7f42dfa0d310>]"
            ]
          },
          "metadata": {},
          "execution_count": 7
        },
        {
          "output_type": "display_data",
          "data": {
            "text/plain": [
              "<Figure size 640x480 with 1 Axes>"
            ],
            "image/png": "[encoded data removed]"
          },
          "metadata": {}
        }
      ]
    },
    {
      "cell_type": "code",
      "source": [],
      "metadata": {
        "id": "vV42YwTOOfF_"
      },
      "execution_count": null,
      "outputs": []
    }
  ]
}